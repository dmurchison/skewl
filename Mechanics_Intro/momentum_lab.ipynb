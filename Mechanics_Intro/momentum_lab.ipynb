{
 "cells": [
  {
   "cell_type": "code",
   "execution_count": 4,
   "metadata": {},
   "outputs": [
    {
     "name": "stdout",
     "output_type": "stream",
     "text": [
      "Car A: 0.07840000000000001 kg\n",
      "Car B: 0.07840000000000001 kg\n",
      "Average time: 0.6867 s\n",
      "Velocity of car A: 0.7282 m/s\n"
     ]
    }
   ],
   "source": [
    "# Turn g into kg\n",
    "car_a = 78.4\n",
    "car_b = 78.4\n",
    "\n",
    "car_a_kg = car_a / 1000\n",
    "car_b_kg = car_b / 1000\n",
    "print(f\"Car A: {car_a_kg} kg\")\n",
    "print(f\"Car B: {car_b_kg} kg\")\n",
    "\n",
    "# Time for car A to travel 50 cm\n",
    "t1 = 0.73\n",
    "t2 = 0.65\n",
    "t3 = 0.68\n",
    "\n",
    "# Average time using 4 decimal places\n",
    "t_avg = (t1 + t2 + t3) / 3\n",
    "print(f\"Average time: {t_avg:.4f} s\")\n",
    "\n",
    "# Velocity (m/s)\n",
    "v_a = 0.5 / t_avg\n",
    "print(f\"Velocity of car A: {v_a:.4f} m/s\")"
   ]
  },
  {
   "cell_type": "code",
   "execution_count": null,
   "metadata": {},
   "outputs": [
    {
     "name": "stdout",
     "output_type": "stream",
     "text": [
      "Average time: 0.2700 s\n",
      "Velocity of car B: 1.8519 m/s\n"
     ]
    }
   ],
   "source": [
    "t1 = 0.26\n",
    "t2 = 0.29\n",
    "t3 = 0.26\n",
    "\n",
    "# Average time using 4 decimal places\n",
    "t_avg = (t1 + t2 + t3) / 3\n",
    "print(f\"Average time: {t_avg:.4f} s\")\n",
    "\n",
    "# Velocity (m/s)\n",
    "v_b = 0.5 / t_avg\n",
    "print(f\"Velocity of car B: {v_b:.4f} m/s\")\n",
    "\n",
    "# ...existing code...\n",
    "\n",
    "# Velocity of car A before the collision\n",
    "v_a = 0.5 / t_avg\n",
    "print(f\"Velocity of car A: {v_a:.4f} m/s\")\n",
    "\n",
    "# Velocity of car B before the collision\n",
    "v_b = 0.0  # Car B is initially at rest\n",
    "\n",
    "# Momentum before the collision\n",
    "momentum_before = car_a_kg * v_a + car_b_kg * v_b\n",
    "print(f\"Momentum before the collision: {momentum_before:.4f} kg·m/s\")\n",
    "\n",
    "# Velocity of car A after the collision\n",
    "v_a_after_collision = 0.0  # Car A comes to a stop\n",
    "\n",
    "# Velocity of car B after the collision\n",
    "v_b_after_collision = v_a  # Car B moves with the velocity of car A before the collision\n",
    "\n",
    "# Momentum after the collision\n",
    "momentum_after = car_a_kg * v_a_after_collision + car_b_kg * v_b_after_collision\n",
    "print(f\"Momentum after the collision: {momentum_after:.4f} kg·m/s\")\n",
    "\n",
    "# Percent difference\n",
    "percent_difference = abs(momentum_before - momentum_after) / ((momentum_before + momentum_after) / 2) * 100\n",
    "print(f\"Percent difference: {percent_difference:.2f}%\")"
   ]
  },
  {
   "cell_type": "code",
   "execution_count": null,
   "metadata": {
    "vscode": {
     "languageId": "tex"
    }
   },
   "outputs": [],
   "source": [
    "To copy the equations into Microsoft Word, you can use the following LaTeX formatted equations. Microsoft Word supports LaTeX equations, and you can insert them using the \"Insert\" -> \"Equation\" -> \"LaTeX\" option.\n",
    "\n",
    "Here are the equations formatted for easy copying and pasting into a Word document:\n",
    "\n",
    "1. **Convert grams to kilograms:**\n",
    "    \\[\n",
    "    \\text{car\\_a\\_kg} = \\frac{\\text{car\\_a}}{1000}\n",
    "    \\]\n",
    "    \\[\n",
    "    \\text{car\\_b\\_kg} = \\frac{\\text{car\\_b}}{1000}\n",
    "    \\]\n",
    "\n",
    "2. **Average time:**\n",
    "    \\[\n",
    "    \\text{t\\_avg} = \\frac{\\text{t1} + \\text{t2} + \\text{t3}}{3}\n",
    "    \\]\n",
    "\n",
    "3. **Velocity of car A:**\n",
    "    \\[\n",
    "    \\text{v\\_a} = \\frac{0.5}{\\text{t\\_avg}}\n",
    "    \\]\n",
    "\n",
    "4. **Velocity of car B:**\n",
    "    \\[\n",
    "    \\text{v\\_b} = \\frac{0.5}{\\text{t\\_avg}}\n",
    "    \\]\n",
    "\n",
    "5. **Momentum before the collision:**\n",
    "    \\[\n",
    "    \\text{momentum\\_before} = \\text{car\\_a\\_kg} \\times \\text{v\\_a} + \\text{car\\_b\\_kg} \\times \\text{v\\_b}\n",
    "    \\]\n",
    "\n",
    "6. **Velocity of car A after the collision:**\n",
    "    \\[\n",
    "    \\text{v\\_a\\_after\\_collision} = 0.0\n",
    "    \\]\n",
    "\n",
    "7. **Velocity of car B after the collision:**\n",
    "    \\[\n",
    "    \\text{v\\_b\\_after\\_collision} = \\text{v\\_a}\n",
    "    \\]\n",
    "\n",
    "8. **Momentum after the collision:**\n",
    "    \\[\n",
    "    \\text{momentum\\_after} = \\text{car\\_a\\_kg} \\times \\text{v\\_a\\_after\\_collision} + \\text{car\\_b\\_kg} \\times \\text{v\\_b\\_after\\_collision}\n",
    "    \\]\n",
    "\n",
    "9. **Percent difference:**\n",
    "    \\[\n",
    "    \\text{percent\\_difference} = \\left| \\frac{\\text{momentum\\_before} - \\text{momentum\\_after}}{\\left( \\frac{\\text{momentum\\_before} + \\text{momentum\\_after}}{2} \\right)} \\right| \\times 100\n",
    "    \\]"
   ]
  },
  {
   "cell_type": "markdown",
   "metadata": {},
   "source": []
  }
 ],
 "metadata": {
  "kernelspec": {
   "display_name": "Python 3",
   "language": "python",
   "name": "python3"
  },
  "language_info": {
   "codemirror_mode": {
    "name": "ipython",
    "version": 3
   },
   "file_extension": ".py",
   "mimetype": "text/x-python",
   "name": "python",
   "nbconvert_exporter": "python",
   "pygments_lexer": "ipython3",
   "version": "3.12.4"
  }
 },
 "nbformat": 4,
 "nbformat_minor": 2
}
